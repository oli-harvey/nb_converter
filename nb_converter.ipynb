{
 "cells": [
  {
   "cell_type": "markdown",
   "metadata": {},
   "source": [
    "# NB Converter\n",
    "Choose a notebook to render as markdown and then remove sections marked to #hide.   \n",
    "If cells start or end with #hide then they will be hidden."
   ]
  },
  {
   "cell_type": "code",
   "execution_count": 2,
   "metadata": {},
   "outputs": [],
   "source": [
    "#hide\n",
    "# !pip install nbconvert"
   ]
  },
  {
   "cell_type": "code",
   "execution_count": 3,
   "metadata": {},
   "outputs": [],
   "source": [
    "#hide\n",
    "import nbformat\n",
    "from nbconvert import MarkdownExporter\n",
    "from nbconvert.writers import FilesWriter\n",
    "from traitlets.config import Config"
   ]
  },
  {
   "cell_type": "code",
   "execution_count": 11,
   "metadata": {},
   "outputs": [],
   "source": [
    "#hide\n",
    "def show_cell(cell):\n",
    "    hide_word = '#hide'\n",
    "    show = True\n",
    "    if cell['source'].startswith(hide_word):\n",
    "        show = False\n",
    "    if cell['source'].endswith(hide_word):\n",
    "        show = False\n",
    "    return show\n",
    "\n",
    "def nb_convert(notebook_path):\n",
    "    notebook = nbformat.read(notebook_path, nbformat.NO_CONVERT)\n",
    "    # print(notebook)\n",
    "    notebook['cells'] = [\n",
    "        c for c in notebook['cells'] \n",
    "        if show_cell(c)\n",
    "    ]\n",
    "    \n",
    "    parts = nb_path.split('/')\n",
    "    nb_name = parts.pop().replace('.ipynb', '')\n",
    "    out_path = \"\".join(parts)\n",
    "\n",
    "    md_exporter = MarkdownExporter()\n",
    "\n",
    "    (body, resources) = md_exporter.from_notebook_node(notebook)\n",
    "\n",
    "    c = Config()\n",
    "    c.FilesWriter.build_directory = out_path\n",
    "    fw = FilesWriter(config=c)\n",
    "    fw.write(body, resources, notebook_name=nb_name)"
   ]
  },
  {
   "cell_type": "code",
   "execution_count": 12,
   "metadata": {},
   "outputs": [],
   "source": [
    "nb_path = 'nb_converter.ipynb'\n",
    "nb_convert(nb_path)"
   ]
  }
 ],
 "metadata": {
  "kernelspec": {
   "display_name": "Python 3.8.8 64-bit ('titanic': conda)",
   "name": "python388jvsc74a57bd02cafb3199729848de48071f5cfc9db2ba6e5f31612348b291f81e9e98cb6629b"
  },
  "language_info": {
   "codemirror_mode": {
    "name": "ipython",
    "version": 3
   },
   "file_extension": ".py",
   "mimetype": "text/x-python",
   "name": "python",
   "nbconvert_exporter": "python",
   "pygments_lexer": "ipython3",
   "version": "3.8.8"
  },
  "orig_nbformat": 2
 },
 "nbformat": 4,
 "nbformat_minor": 2
}