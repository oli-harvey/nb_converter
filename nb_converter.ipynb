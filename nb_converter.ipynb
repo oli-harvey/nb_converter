{
 "cells": [
  {
   "cell_type": "markdown",
   "metadata": {},
   "source": [
    "# NB Converter\n",
    "Choose a notebook to render as markdown and then remove sections marked to #hide.   \n",
    "If cells start or end with #hide then they will be hidden."
   ]
  },
  {
   "cell_type": "code",
   "execution_count": 2,
   "metadata": {},
   "outputs": [],
   "source": [
    "#hide\n",
    "# !pip install nbconvert"
   ]
  },
  {
   "cell_type": "code",
   "execution_count": 3,
   "metadata": {},
   "outputs": [],
   "source": [
    "#hide\n",
    "import nbformat\n",
    "from nbconvert import MarkdownExporter\n",
    "from nbconvert.writers import FilesWriter\n",
    "from traitlets.config import Config"
   ]
  },
  {
   "cell_type": "code",
   "execution_count": 4,
   "metadata": {},
   "outputs": [],
   "source": [
    "#hide\n",
    "def show_source(cell):\n",
    "    hide_word = '#hide'\n",
    "    hide_code = hide_word + 'code'\n",
    "    hide_output = hide_word + 'output'\n",
    "\n",
    "    show_code = True\n",
    "    show_output = True\n",
    "\n",
    "    if cell['source'].startswith(hide_code):\n",
    "        show_code = False\n",
    "    elif cell['source'].startswith(hide_output):\n",
    "        show_output = False\n",
    "    elif cell['source'].startswith(hide_word):\n",
    "        show_code = False\n",
    "        show_output = False\n",
    "    return show_code\n",
    "\n",
    "def show_output(cell):\n",
    "    hide_word = '#hide'\n",
    "    hide_code = hide_word + 'code'\n",
    "    hide_output = hide_word + 'output'\n",
    "\n",
    "    show_code = True\n",
    "    show_output = True\n",
    "\n",
    "    if cell['source'].startswith(hide_code):\n",
    "        show_code = False\n",
    "    elif cell['source'].startswith(hide_output):\n",
    "        show_output = False\n",
    "    elif cell['source'].startswith(hide_word):\n",
    "        show_output = False\n",
    "    return show_output\n",
    "\n",
    "def show_cell(cell):\n",
    "    show_cell = True\n",
    "    source = cell.get('source')\n",
    "    outputs = cell.get('outputs')\n",
    "    if source == '' and (outputs == [] or outputs == None):\n",
    "        show_cell = False\n",
    "    return show_cell   \n",
    "\n",
    "def nb_convert(notebook_path):\n",
    "    notebook = nbformat.read(notebook_path, nbformat.NO_CONVERT)\n",
    "    # print(notebook)\n",
    "\n",
    "    for cell in notebook['cells']:\n",
    "        if not show_output(cell):\n",
    "            cell['outputs'] = []\n",
    "        if not show_source(cell):\n",
    "            cell['source'] = ''\n",
    "\n",
    "\n",
    "    notebook['cells'] = [c for c in notebook['cells'] if show_cell(c)]\n",
    "    # notebook['cells']['source'] = [s if show_source(s) else '' for s in notebook['cells']['source']]\n",
    "    # notebook['cells']['outputs'] = [o if show_output(o) else '' for o in notebook['cells']['outputs']]   \n",
    "    \n",
    "    parts = nb_path.split('/')\n",
    "    nb_name = parts.pop().replace('.ipynb', '')\n",
    "    out_path = \"\".join(parts)\n",
    "\n",
    "    md_exporter = MarkdownExporter()\n",
    "\n",
    "    (body, resources) = md_exporter.from_notebook_node(notebook)\n",
    "\n",
    "    c = Config()\n",
    "    c.FilesWriter.build_directory = out_path\n",
    "    fw = FilesWriter(config=c)\n",
    "    fw.write(body, resources, notebook_name=nb_name)"
   ]
  },
  {
   "cell_type": "code",
   "execution_count": 13,
   "metadata": {},
   "outputs": [],
   "source": [
    "# might be neccessary to put r at the front to escape special characters\n",
    "nb_path = r'C:\\local_work\\cross-category-analysis\\write_up.ipynb'\n",
    "nb_convert(nb_path)"
   ]
  },
  {
   "cell_type": "markdown",
   "metadata": {},
   "source": []
  },
  {
   "cell_type": "code",
   "execution_count": null,
   "metadata": {},
   "outputs": [],
   "source": []
  }
 ],
 "metadata": {
  "interpreter": {
   "hash": "7e6e452a3d41b966c4d5189680d6ba0d4f75512f4fd21d0be3aabe6fff6f0f54"
  },
  "kernelspec": {
   "display_name": "Python 3.8.8 64-bit ('titanic': conda)",
   "language": "python",
   "name": "python3"
  },
  "language_info": {
   "codemirror_mode": {
    "name": "ipython",
    "version": 3
   },
   "file_extension": ".py",
   "mimetype": "text/x-python",
   "name": "python",
   "nbconvert_exporter": "python",
   "pygments_lexer": "ipython3",
   "version": "3.10.1"
  },
  "orig_nbformat": 2
 },
 "nbformat": 4,
 "nbformat_minor": 2
}
